{
 "cells": [
  {
   "cell_type": "markdown",
   "id": "4bc53989",
   "metadata": {},
   "source": [
    "# Spam email"
   ]
  },
  {
   "cell_type": "code",
   "execution_count": 10,
   "id": "d4188610",
   "metadata": {},
   "outputs": [],
   "source": [
    "from nltk.corpus import stopwords\n",
    "from nltk.stem import PorterStemmer\n",
    "from nltk.stem import WordNetLemmatizer\n",
    "import nltk\n",
    "import pandas as pd\n",
    "import re\n",
    "from nltk.corpus import stopwords\n",
    "from gensim.parsing.preprocessing import remove_stopwords\n",
    "\n",
    "import numpy as np\n",
    "import matplotlib.pyplot as plt\n",
    "import seaborn as sns\n",
    "from sklearn.metrics import accuracy_score\n",
    "#WARNING LIBRARYS\n",
    "import warnings\n",
    "warnings.filterwarnings(\"ignore\")\n",
    "#SKLEARN LIBRARYS\n",
    "from sklearn.neighbors import KNeighborsClassifier\n",
    "from sklearn.metrics import accuracy_score"
   ]
  },
  {
   "cell_type": "code",
   "execution_count": 51,
   "id": "c1e73c7f",
   "metadata": {},
   "outputs": [],
   "source": [
    "df = pd.read_excel(\"C:\\\\files\\\\Fileee\\\\Spam Emails Classification\\\\spam_ham_dataset.xls\")"
   ]
  },
  {
   "cell_type": "code",
   "execution_count": 52,
   "id": "43bd05ad",
   "metadata": {},
   "outputs": [
    {
     "data": {
      "text/html": [
       "<div>\n",
       "<style scoped>\n",
       "    .dataframe tbody tr th:only-of-type {\n",
       "        vertical-align: middle;\n",
       "    }\n",
       "\n",
       "    .dataframe tbody tr th {\n",
       "        vertical-align: top;\n",
       "    }\n",
       "\n",
       "    .dataframe thead th {\n",
       "        text-align: right;\n",
       "    }\n",
       "</style>\n",
       "<table border=\"1\" class=\"dataframe\">\n",
       "  <thead>\n",
       "    <tr style=\"text-align: right;\">\n",
       "      <th></th>\n",
       "      <th>Sr No</th>\n",
       "      <th>text</th>\n",
       "      <th>label</th>\n",
       "    </tr>\n",
       "  </thead>\n",
       "  <tbody>\n",
       "    <tr>\n",
       "      <th>0</th>\n",
       "      <td>1</td>\n",
       "      <td>Subject: enron methanol ; meter # : 988291\\r\\n...</td>\n",
       "      <td>ham</td>\n",
       "    </tr>\n",
       "    <tr>\n",
       "      <th>1</th>\n",
       "      <td>2</td>\n",
       "      <td>Subject: hpl nom for january 9 , 2001\\r\\n( see...</td>\n",
       "      <td>ham</td>\n",
       "    </tr>\n",
       "    <tr>\n",
       "      <th>2</th>\n",
       "      <td>3</td>\n",
       "      <td>Subject: neon retreat\\r\\nho ho ho , we ' re ar...</td>\n",
       "      <td>ham</td>\n",
       "    </tr>\n",
       "    <tr>\n",
       "      <th>3</th>\n",
       "      <td>4</td>\n",
       "      <td>Subject: photoshop , windows , office . cheap ...</td>\n",
       "      <td>spam</td>\n",
       "    </tr>\n",
       "    <tr>\n",
       "      <th>4</th>\n",
       "      <td>5</td>\n",
       "      <td>Subject: re : indian springs\\r\\nthis deal is t...</td>\n",
       "      <td>ham</td>\n",
       "    </tr>\n",
       "  </tbody>\n",
       "</table>\n",
       "</div>"
      ],
      "text/plain": [
       "   Sr No                                               text label\n",
       "0      1  Subject: enron methanol ; meter # : 988291\\r\\n...   ham\n",
       "1      2  Subject: hpl nom for january 9 , 2001\\r\\n( see...   ham\n",
       "2      3  Subject: neon retreat\\r\\nho ho ho , we ' re ar...   ham\n",
       "3      4  Subject: photoshop , windows , office . cheap ...  spam\n",
       "4      5  Subject: re : indian springs\\r\\nthis deal is t...   ham"
      ]
     },
     "execution_count": 52,
     "metadata": {},
     "output_type": "execute_result"
    }
   ],
   "source": [
    "df.head()"
   ]
  },
  {
   "cell_type": "code",
   "execution_count": 53,
   "id": "754f4d02",
   "metadata": {},
   "outputs": [],
   "source": [
    "ham = df[df[\"label\"]==\"ham\"]\n",
    "spam = df[df[\"label\"]==\"spam\"]"
   ]
  },
  {
   "cell_type": "code",
   "execution_count": 55,
   "id": "ffc39178",
   "metadata": {},
   "outputs": [],
   "source": [
    "g = df.groupby('label')\n",
    "df1 = g.apply(lambda x: x.sample(g.size().min()))"
   ]
  },
  {
   "cell_type": "code",
   "execution_count": 61,
   "id": "8fed0b75",
   "metadata": {},
   "outputs": [
    {
     "data": {
      "text/plain": [
       "<AxesSubplot:xlabel='label', ylabel='count'>"
      ]
     },
     "execution_count": 61,
     "metadata": {},
     "output_type": "execute_result"
    },
    {
     "data": {
      "image/png": "[encoded data removed]",
      "text/plain": [
       "<Figure size 432x288 with 1 Axes>"
      ]
     },
     "metadata": {
      "needs_background": "light"
     },
     "output_type": "display_data"
    }
   ],
   "source": [
    "sns.countplot(df1[\"label\"])"
   ]
  },
  {
   "cell_type": "code",
   "execution_count": 62,
   "id": "0d1ee457",
   "metadata": {},
   "outputs": [
    {
     "data": {
      "text/plain": [
       "ham     1499\n",
       "spam    1499\n",
       "Name: label, dtype: int64"
      ]
     },
     "execution_count": 62,
     "metadata": {},
     "output_type": "execute_result"
    }
   ],
   "source": [
    "df1[\"label\"].value_counts()"
   ]
  },
  {
   "cell_type": "code",
   "execution_count": 63,
   "id": "cac88060",
   "metadata": {},
   "outputs": [
    {
     "data": {
      "text/plain": [
       "Index(['Sr No', 'text', 'label'], dtype='object')"
      ]
     },
     "execution_count": 63,
     "metadata": {},
     "output_type": "execute_result"
    }
   ],
   "source": [
    "df1.columns"
   ]
  },
  {
   "cell_type": "code",
   "execution_count": 64,
   "id": "ca0b1ab6",
   "metadata": {},
   "outputs": [
    {
     "data": {
      "text/html": [
       "<div>\n",
       "<style scoped>\n",
       "    .dataframe tbody tr th:only-of-type {\n",
       "        vertical-align: middle;\n",
       "    }\n",
       "\n",
       "    .dataframe tbody tr th {\n",
       "        vertical-align: top;\n",
       "    }\n",
       "\n",
       "    .dataframe thead th {\n",
       "        text-align: right;\n",
       "    }\n",
       "</style>\n",
       "<table border=\"1\" class=\"dataframe\">\n",
       "  <thead>\n",
       "    <tr style=\"text-align: right;\">\n",
       "      <th></th>\n",
       "      <th></th>\n",
       "      <th>Sr No</th>\n",
       "      <th>text</th>\n",
       "      <th>label</th>\n",
       "    </tr>\n",
       "    <tr>\n",
       "      <th>label</th>\n",
       "      <th></th>\n",
       "      <th></th>\n",
       "      <th></th>\n",
       "      <th></th>\n",
       "    </tr>\n",
       "  </thead>\n",
       "  <tbody>\n",
       "    <tr>\n",
       "      <th rowspan=\"5\" valign=\"top\">ham</th>\n",
       "      <th>3222</th>\n",
       "      <td>3223</td>\n",
       "      <td>Subject: hpl nom for april 7 , 2001\\r\\n( see a...</td>\n",
       "      <td>ham</td>\n",
       "    </tr>\n",
       "    <tr>\n",
       "      <th>2604</th>\n",
       "      <td>2605</td>\n",
       "      <td>Subject: volume changes - december , 2000\\r\\np...</td>\n",
       "      <td>ham</td>\n",
       "    </tr>\n",
       "    <tr>\n",
       "      <th>4050</th>\n",
       "      <td>4051</td>\n",
       "      <td>Subject: real time deal updates to path manage...</td>\n",
       "      <td>ham</td>\n",
       "    </tr>\n",
       "    <tr>\n",
       "      <th>3884</th>\n",
       "      <td>3885</td>\n",
       "      <td>Subject: this week ' s neon sheet\\r\\n- awesome...</td>\n",
       "      <td>ham</td>\n",
       "    </tr>\n",
       "    <tr>\n",
       "      <th>2932</th>\n",
       "      <td>2933</td>\n",
       "      <td>Subject: revision - enron / hpl actuals for ju...</td>\n",
       "      <td>ham</td>\n",
       "    </tr>\n",
       "  </tbody>\n",
       "</table>\n",
       "</div>"
      ],
      "text/plain": [
       "            Sr No                                               text label\n",
       "label                                                                     \n",
       "ham   3222   3223  Subject: hpl nom for april 7 , 2001\\r\\n( see a...   ham\n",
       "      2604   2605  Subject: volume changes - december , 2000\\r\\np...   ham\n",
       "      4050   4051  Subject: real time deal updates to path manage...   ham\n",
       "      3884   3885  Subject: this week ' s neon sheet\\r\\n- awesome...   ham\n",
       "      2932   2933  Subject: revision - enron / hpl actuals for ju...   ham"
      ]
     },
     "execution_count": 64,
     "metadata": {},
     "output_type": "execute_result"
    }
   ],
   "source": [
    "df1.head()"
   ]
  },
  {
   "cell_type": "code",
   "execution_count": 65,
   "id": "929ecaab",
   "metadata": {},
   "outputs": [
    {
     "name": "stdout",
     "output_type": "stream",
     "text": [
      "<class 'pandas.core.frame.DataFrame'>\n",
      "MultiIndex: 2998 entries, ('ham', 3222) to ('spam', 3276)\n",
      "Data columns (total 3 columns):\n",
      " #   Column  Non-Null Count  Dtype \n",
      "---  ------  --------------  ----- \n",
      " 0   Sr No   2998 non-null   int64 \n",
      " 1   text    2998 non-null   object\n",
      " 2   label   2998 non-null   object\n",
      "dtypes: int64(1), object(2)\n",
      "memory usage: 167.2+ KB\n"
     ]
    }
   ],
   "source": [
    "df1.info()"
   ]
  },
  {
   "cell_type": "code",
   "execution_count": 66,
   "id": "38cf1c38",
   "metadata": {},
   "outputs": [],
   "source": [
    "stemmer = PorterStemmer()\n",
    "lemmitizer = WordNetLemmatizer()\n",
    "stop_word = set(stopwords.words('english'))\n",
    "df.reset_index(inplace = True)"
   ]
  },
  {
   "cell_type": "code",
   "execution_count": 67,
   "id": "d035c5ce",
   "metadata": {},
   "outputs": [],
   "source": [
    "corpus = []\n",
    "for i in range(len(df1)):\n",
    "    #Remove regex\n",
    "    sent = re.sub('[^a-zA-Z]',' ',df['text'][i])\n",
    "    \n",
    "    #Convert into lower case\n",
    "    sent = sent.lower()\n",
    "    \n",
    "    #Steamming\n",
    "    sent = \" \".join([stemmer.stem(word) for word in str(sent).split()])\n",
    "    \n",
    "    #Remove Stopwords\n",
    "    sent = \" \".join([stemmer.stem(word) for word in str(sent).split()\n",
    "                    if(word) not in stop_word])\n",
    "    corpus.append(sent)\n",
    "#corpus"
   ]
  },
  {
   "cell_type": "code",
   "execution_count": 78,
   "id": "e4f68b80",
   "metadata": {},
   "outputs": [],
   "source": [
    "# Stem + BOW\n",
    "from sklearn.feature_extraction.text import CountVectorizer\n",
    "cv = CountVectorizer(max_features=2000)\n",
    "X = cv.fit_transform(corpus).toarray()\n",
    "\n",
    "#Output\n",
    "y = df1['label']"
   ]
  },
  {
   "cell_type": "code",
   "execution_count": 79,
   "id": "23efc539",
   "metadata": {},
   "outputs": [
    {
     "data": {
      "text/html": [
       "<div>\n",
       "<style scoped>\n",
       "    .dataframe tbody tr th:only-of-type {\n",
       "        vertical-align: middle;\n",
       "    }\n",
       "\n",
       "    .dataframe tbody tr th {\n",
       "        vertical-align: top;\n",
       "    }\n",
       "\n",
       "    .dataframe thead th {\n",
       "        text-align: right;\n",
       "    }\n",
       "</style>\n",
       "<table border=\"1\" class=\"dataframe\">\n",
       "  <thead>\n",
       "    <tr style=\"text-align: right;\">\n",
       "      <th></th>\n",
       "      <th>abdv</th>\n",
       "      <th>abil</th>\n",
       "      <th>abl</th>\n",
       "      <th>abov</th>\n",
       "      <th>ac</th>\n",
       "      <th>accept</th>\n",
       "      <th>access</th>\n",
       "      <th>accomplish</th>\n",
       "      <th>accord</th>\n",
       "      <th>account</th>\n",
       "      <th>...</th>\n",
       "      <th>ye</th>\n",
       "      <th>year</th>\n",
       "      <th>yesterday</th>\n",
       "      <th>yet</th>\n",
       "      <th>young</th>\n",
       "      <th>yvett</th>\n",
       "      <th>zajac</th>\n",
       "      <th>zero</th>\n",
       "      <th>zivley</th>\n",
       "      <th>zone</th>\n",
       "    </tr>\n",
       "  </thead>\n",
       "  <tbody>\n",
       "    <tr>\n",
       "      <th>0</th>\n",
       "      <td>0</td>\n",
       "      <td>0</td>\n",
       "      <td>0</td>\n",
       "      <td>0</td>\n",
       "      <td>0</td>\n",
       "      <td>0</td>\n",
       "      <td>0</td>\n",
       "      <td>0</td>\n",
       "      <td>0</td>\n",
       "      <td>0</td>\n",
       "      <td>...</td>\n",
       "      <td>0</td>\n",
       "      <td>0</td>\n",
       "      <td>0</td>\n",
       "      <td>0</td>\n",
       "      <td>0</td>\n",
       "      <td>0</td>\n",
       "      <td>0</td>\n",
       "      <td>1</td>\n",
       "      <td>0</td>\n",
       "      <td>0</td>\n",
       "    </tr>\n",
       "    <tr>\n",
       "      <th>1</th>\n",
       "      <td>0</td>\n",
       "      <td>0</td>\n",
       "      <td>0</td>\n",
       "      <td>0</td>\n",
       "      <td>0</td>\n",
       "      <td>0</td>\n",
       "      <td>0</td>\n",
       "      <td>0</td>\n",
       "      <td>0</td>\n",
       "      <td>0</td>\n",
       "      <td>...</td>\n",
       "      <td>0</td>\n",
       "      <td>0</td>\n",
       "      <td>0</td>\n",
       "      <td>0</td>\n",
       "      <td>0</td>\n",
       "      <td>0</td>\n",
       "      <td>0</td>\n",
       "      <td>0</td>\n",
       "      <td>0</td>\n",
       "      <td>0</td>\n",
       "    </tr>\n",
       "    <tr>\n",
       "      <th>2</th>\n",
       "      <td>0</td>\n",
       "      <td>0</td>\n",
       "      <td>0</td>\n",
       "      <td>0</td>\n",
       "      <td>0</td>\n",
       "      <td>0</td>\n",
       "      <td>0</td>\n",
       "      <td>0</td>\n",
       "      <td>0</td>\n",
       "      <td>0</td>\n",
       "      <td>...</td>\n",
       "      <td>0</td>\n",
       "      <td>4</td>\n",
       "      <td>0</td>\n",
       "      <td>0</td>\n",
       "      <td>0</td>\n",
       "      <td>0</td>\n",
       "      <td>0</td>\n",
       "      <td>0</td>\n",
       "      <td>0</td>\n",
       "      <td>0</td>\n",
       "    </tr>\n",
       "    <tr>\n",
       "      <th>3</th>\n",
       "      <td>0</td>\n",
       "      <td>0</td>\n",
       "      <td>0</td>\n",
       "      <td>0</td>\n",
       "      <td>0</td>\n",
       "      <td>0</td>\n",
       "      <td>0</td>\n",
       "      <td>0</td>\n",
       "      <td>0</td>\n",
       "      <td>0</td>\n",
       "      <td>...</td>\n",
       "      <td>0</td>\n",
       "      <td>0</td>\n",
       "      <td>0</td>\n",
       "      <td>0</td>\n",
       "      <td>0</td>\n",
       "      <td>0</td>\n",
       "      <td>0</td>\n",
       "      <td>0</td>\n",
       "      <td>0</td>\n",
       "      <td>0</td>\n",
       "    </tr>\n",
       "    <tr>\n",
       "      <th>4</th>\n",
       "      <td>0</td>\n",
       "      <td>0</td>\n",
       "      <td>0</td>\n",
       "      <td>0</td>\n",
       "      <td>0</td>\n",
       "      <td>0</td>\n",
       "      <td>0</td>\n",
       "      <td>0</td>\n",
       "      <td>0</td>\n",
       "      <td>0</td>\n",
       "      <td>...</td>\n",
       "      <td>0</td>\n",
       "      <td>0</td>\n",
       "      <td>0</td>\n",
       "      <td>0</td>\n",
       "      <td>0</td>\n",
       "      <td>0</td>\n",
       "      <td>0</td>\n",
       "      <td>0</td>\n",
       "      <td>0</td>\n",
       "      <td>0</td>\n",
       "    </tr>\n",
       "    <tr>\n",
       "      <th>...</th>\n",
       "      <td>...</td>\n",
       "      <td>...</td>\n",
       "      <td>...</td>\n",
       "      <td>...</td>\n",
       "      <td>...</td>\n",
       "      <td>...</td>\n",
       "      <td>...</td>\n",
       "      <td>...</td>\n",
       "      <td>...</td>\n",
       "      <td>...</td>\n",
       "      <td>...</td>\n",
       "      <td>...</td>\n",
       "      <td>...</td>\n",
       "      <td>...</td>\n",
       "      <td>...</td>\n",
       "      <td>...</td>\n",
       "      <td>...</td>\n",
       "      <td>...</td>\n",
       "      <td>...</td>\n",
       "      <td>...</td>\n",
       "      <td>...</td>\n",
       "    </tr>\n",
       "    <tr>\n",
       "      <th>2993</th>\n",
       "      <td>0</td>\n",
       "      <td>0</td>\n",
       "      <td>0</td>\n",
       "      <td>0</td>\n",
       "      <td>0</td>\n",
       "      <td>0</td>\n",
       "      <td>0</td>\n",
       "      <td>0</td>\n",
       "      <td>0</td>\n",
       "      <td>0</td>\n",
       "      <td>...</td>\n",
       "      <td>0</td>\n",
       "      <td>0</td>\n",
       "      <td>0</td>\n",
       "      <td>0</td>\n",
       "      <td>0</td>\n",
       "      <td>0</td>\n",
       "      <td>0</td>\n",
       "      <td>0</td>\n",
       "      <td>0</td>\n",
       "      <td>0</td>\n",
       "    </tr>\n",
       "    <tr>\n",
       "      <th>2994</th>\n",
       "      <td>0</td>\n",
       "      <td>0</td>\n",
       "      <td>0</td>\n",
       "      <td>0</td>\n",
       "      <td>0</td>\n",
       "      <td>0</td>\n",
       "      <td>0</td>\n",
       "      <td>0</td>\n",
       "      <td>0</td>\n",
       "      <td>0</td>\n",
       "      <td>...</td>\n",
       "      <td>0</td>\n",
       "      <td>0</td>\n",
       "      <td>0</td>\n",
       "      <td>0</td>\n",
       "      <td>0</td>\n",
       "      <td>0</td>\n",
       "      <td>0</td>\n",
       "      <td>0</td>\n",
       "      <td>0</td>\n",
       "      <td>0</td>\n",
       "    </tr>\n",
       "    <tr>\n",
       "      <th>2995</th>\n",
       "      <td>0</td>\n",
       "      <td>0</td>\n",
       "      <td>0</td>\n",
       "      <td>0</td>\n",
       "      <td>0</td>\n",
       "      <td>0</td>\n",
       "      <td>0</td>\n",
       "      <td>0</td>\n",
       "      <td>0</td>\n",
       "      <td>0</td>\n",
       "      <td>...</td>\n",
       "      <td>0</td>\n",
       "      <td>0</td>\n",
       "      <td>0</td>\n",
       "      <td>0</td>\n",
       "      <td>0</td>\n",
       "      <td>0</td>\n",
       "      <td>0</td>\n",
       "      <td>0</td>\n",
       "      <td>0</td>\n",
       "      <td>0</td>\n",
       "    </tr>\n",
       "    <tr>\n",
       "      <th>2996</th>\n",
       "      <td>0</td>\n",
       "      <td>0</td>\n",
       "      <td>0</td>\n",
       "      <td>0</td>\n",
       "      <td>0</td>\n",
       "      <td>0</td>\n",
       "      <td>0</td>\n",
       "      <td>0</td>\n",
       "      <td>0</td>\n",
       "      <td>0</td>\n",
       "      <td>...</td>\n",
       "      <td>1</td>\n",
       "      <td>0</td>\n",
       "      <td>0</td>\n",
       "      <td>0</td>\n",
       "      <td>0</td>\n",
       "      <td>0</td>\n",
       "      <td>0</td>\n",
       "      <td>0</td>\n",
       "      <td>0</td>\n",
       "      <td>0</td>\n",
       "    </tr>\n",
       "    <tr>\n",
       "      <th>2997</th>\n",
       "      <td>0</td>\n",
       "      <td>0</td>\n",
       "      <td>0</td>\n",
       "      <td>0</td>\n",
       "      <td>1</td>\n",
       "      <td>0</td>\n",
       "      <td>0</td>\n",
       "      <td>0</td>\n",
       "      <td>0</td>\n",
       "      <td>0</td>\n",
       "      <td>...</td>\n",
       "      <td>0</td>\n",
       "      <td>0</td>\n",
       "      <td>0</td>\n",
       "      <td>0</td>\n",
       "      <td>0</td>\n",
       "      <td>0</td>\n",
       "      <td>0</td>\n",
       "      <td>0</td>\n",
       "      <td>0</td>\n",
       "      <td>0</td>\n",
       "    </tr>\n",
       "  </tbody>\n",
       "</table>\n",
       "<p>2998 rows × 2000 columns</p>\n",
       "</div>"
      ],
      "text/plain": [
       "      abdv  abil  abl  abov  ac  accept  access  accomplish  accord  account  \\\n",
       "0        0     0    0     0   0       0       0           0       0        0   \n",
       "1        0     0    0     0   0       0       0           0       0        0   \n",
       "2        0     0    0     0   0       0       0           0       0        0   \n",
       "3        0     0    0     0   0       0       0           0       0        0   \n",
       "4        0     0    0     0   0       0       0           0       0        0   \n",
       "...    ...   ...  ...   ...  ..     ...     ...         ...     ...      ...   \n",
       "2993     0     0    0     0   0       0       0           0       0        0   \n",
       "2994     0     0    0     0   0       0       0           0       0        0   \n",
       "2995     0     0    0     0   0       0       0           0       0        0   \n",
       "2996     0     0    0     0   0       0       0           0       0        0   \n",
       "2997     0     0    0     0   1       0       0           0       0        0   \n",
       "\n",
       "      ...  ye  year  yesterday  yet  young  yvett  zajac  zero  zivley  zone  \n",
       "0     ...   0     0          0    0      0      0      0     1       0     0  \n",
       "1     ...   0     0          0    0      0      0      0     0       0     0  \n",
       "2     ...   0     4          0    0      0      0      0     0       0     0  \n",
       "3     ...   0     0          0    0      0      0      0     0       0     0  \n",
       "4     ...   0     0          0    0      0      0      0     0       0     0  \n",
       "...   ...  ..   ...        ...  ...    ...    ...    ...   ...     ...   ...  \n",
       "2993  ...   0     0          0    0      0      0      0     0       0     0  \n",
       "2994  ...   0     0          0    0      0      0      0     0       0     0  \n",
       "2995  ...   0     0          0    0      0      0      0     0       0     0  \n",
       "2996  ...   1     0          0    0      0      0      0     0       0     0  \n",
       "2997  ...   0     0          0    0      0      0      0     0       0     0  \n",
       "\n",
       "[2998 rows x 2000 columns]"
      ]
     },
     "execution_count": 79,
     "metadata": {},
     "output_type": "execute_result"
    }
   ],
   "source": [
    "temp_df = pd.DataFrame(X,columns = cv.get_feature_names())\n",
    "temp_df"
   ]
  },
  {
   "cell_type": "markdown",
   "id": "ee617f1d",
   "metadata": {},
   "source": [
    "# Create ML Model"
   ]
  },
  {
   "cell_type": "code",
   "execution_count": 80,
   "id": "ce7f2b7e",
   "metadata": {},
   "outputs": [],
   "source": [
    "#Split data into training and testing from\n",
    "from sklearn.model_selection import train_test_split\n",
    "X_train,X_test,y_train,y_test = train_test_split(X,y,test_size = 0.2,random_state = 3)"
   ]
  },
  {
   "cell_type": "code",
   "execution_count": 81,
   "id": "7f0711cb",
   "metadata": {},
   "outputs": [
    {
     "name": "stdout",
     "output_type": "stream",
     "text": [
      "X_train:-  (2398, 2000)\n",
      "X_test:-  (600, 2000)\n",
      "y_train:-  (2398,)\n",
      "y_test:-  (600, 2000)\n"
     ]
    }
   ],
   "source": [
    "print(\"X_train:- \",X_train.shape)\n",
    "print(\"X_test:- \",X_test.shape)\n",
    "print(\"y_train:- \",y_train.shape)\n",
    "print(\"y_test:- \",X_test.shape)"
   ]
  },
  {
   "cell_type": "markdown",
   "id": "ef7148e6",
   "metadata": {},
   "source": [
    "# KNN"
   ]
  },
  {
   "cell_type": "code",
   "execution_count": 72,
   "id": "6f8bcce1",
   "metadata": {},
   "outputs": [],
   "source": [
    "# Model_Eval func\n",
    "from sklearn.metrics import precision_score,recall_score,f1_score\n",
    "\n",
    "def model_eval(y_test,y_pred):\n",
    "    acc = accuracy_score(y_test,y_pred)\n",
    "    print(\"Accuracy is:- \", acc)\n",
    "    print(\"Error is:- \", 1-acc)\n",
    "    print(\"precision:- \",precision_score(y_test,y_pred,average=\"weighted\"))\n",
    "    print(\"Recall:- \",recall_score(y_test,y_pred,average=\"weighted\"))\n",
    "    print(\"F1 score:- \",f1_score(y_test,y_pred,average=\"weighted\"))\n",
    "    \n",
    "    # Confusion matrix\n",
    "    from sklearn.metrics import confusion_matrix\n",
    "    cm = confusion_matrix(y_test,y_pred)\n",
    "    \n",
    "    sns.heatmap(cm,annot=True)\n",
    "    plt.xlabel(\"Prediction\")\n",
    "    plt.ylabel(\"Actual\")"
   ]
  },
  {
   "cell_type": "code",
   "execution_count": 92,
   "id": "f450ad91",
   "metadata": {},
   "outputs": [
    {
     "name": "stdout",
     "output_type": "stream",
     "text": [
      "Model created\n",
      "Model trained completed\n",
      "Y predict completed\n",
      "Acc for k = 2: - 49.166666666666664\n"
     ]
    }
   ],
   "source": [
    "#KNN\n",
    "ML_Model_1 = KNeighborsClassifier(n_neighbors=2)\n",
    "print(\"Model created\")\n",
    "\n",
    "# Model training\n",
    "ML_Model_1.fit(X_train,y_train)\n",
    "print(\"Model trained completed\")\n",
    "\n",
    "# find the y pred\n",
    "y_pred = ML_Model_1.predict(X_test)\n",
    "print(\"Y predict completed\")\n",
    "\n",
    "#find acc\n",
    "acc = accuracy_score(y_test,y_pred)\n",
    "print(\"Acc for k = 2: -\", acc*100)\n",
    "#model_eval(y_test,y_pred)"
   ]
  },
  {
   "cell_type": "markdown",
   "id": "c24f89bb",
   "metadata": {},
   "source": [
    "# NB Model"
   ]
  },
  {
   "cell_type": "code",
   "execution_count": 93,
   "id": "8661b942",
   "metadata": {},
   "outputs": [
    {
     "name": "stdout",
     "output_type": "stream",
     "text": [
      "Model train\n",
      "Model prepare\n",
      "accuracy for GNB is:-  51.5\n",
      "Accuracy is:-  0.515\n",
      "Error is:-  0.485\n",
      "precision:-  0.5134418527197249\n",
      "Recall:-  0.515\n",
      "F1 score:-  0.5069059304298081\n"
     ]
    },
    {
     "data": {
      "image/png": "[encoded data removed]",
      "text/plain": [
       "<Figure size 432x288 with 2 Axes>"
      ]
     },
     "metadata": {
      "needs_background": "light"
     },
     "output_type": "display_data"
    }
   ],
   "source": [
    "#Create a model for NB\n",
    "from sklearn.naive_bayes import GaussianNB\n",
    "\n",
    "#Create model\n",
    "ML_Model = GaussianNB()\n",
    "\n",
    "#Train model\n",
    "ML_Model.fit(X_train,y_train)\n",
    "print(\"Model train\")\n",
    "\n",
    "#Prepare model\n",
    "y_pred = ML_Model.predict(X_test)\n",
    "print(\"Model prepare\")\n",
    "\n",
    "#Find accuracy\n",
    "acc = accuracy_score(y_test,y_pred)\n",
    "print(\"accuracy for GNB is:- \",acc*100)\n",
    "model_eval(y_test,y_pred)"
   ]
  },
  {
   "cell_type": "markdown",
   "id": "b27394f6",
   "metadata": {},
   "source": [
    "# Logistic Model"
   ]
  },
  {
   "cell_type": "code",
   "execution_count": 94,
   "id": "4175ff5e",
   "metadata": {},
   "outputs": [
    {
     "name": "stdout",
     "output_type": "stream",
     "text": [
      "Model train\n",
      "Model prepare\n",
      "accuracy is:-  53.333333333333336\n",
      "Accuracy is:-  0.5333333333333333\n",
      "Error is:-  0.4666666666666667\n",
      "precision:-  0.534014423076923\n",
      "Recall:-  0.5333333333333333\n",
      "F1 score:-  0.533193319331933\n"
     ]
    },
    {
     "data": {
      "image/png": "[encoded data removed]",
      "text/plain": [
       "<Figure size 432x288 with 2 Axes>"
      ]
     },
     "metadata": {
      "needs_background": "light"
     },
     "output_type": "display_data"
    }
   ],
   "source": [
    "#Import KNN and accuracy_score from sklearn.\n",
    "from sklearn.linear_model import LogisticRegression\n",
    "\n",
    "#Create model\n",
    "ML_Model_3 = LogisticRegression()\n",
    "\n",
    "#Train model\n",
    "ML_Model_3.fit(X_train,y_train)\n",
    "print(\"Model train\")\n",
    "\n",
    "#Prepare model\n",
    "y_pred = ML_Model_3.predict(X_test)\n",
    "print(\"Model prepare\")\n",
    "\n",
    "#Find accuracy\n",
    "acc = accuracy_score(y_test,y_pred)\n",
    "print(\"accuracy is:- \",acc*100)\n",
    "model_eval(y_test,y_pred)"
   ]
  },
  {
   "cell_type": "markdown",
   "id": "67ec7d64",
   "metadata": {},
   "source": [
    "# SVM Model"
   ]
  },
  {
   "cell_type": "code",
   "execution_count": 76,
   "id": "3139fd02",
   "metadata": {},
   "outputs": [
    {
     "name": "stdout",
     "output_type": "stream",
     "text": [
      "Model train\n",
      "Model prepare\n",
      "accuracy is:-  51.66666666666667\n",
      "Accuracy is:-  0.5166666666666667\n",
      "Error is:-  0.4833333333333333\n",
      "precision:-  0.5165406006674083\n",
      "Recall:-  0.5166666666666667\n",
      "F1 score:-  0.5165806795943783\n"
     ]
    },
    {
     "data": {
      "image/png": "[encoded data removed]",
      "text/plain": [
       "<Figure size 432x288 with 2 Axes>"
      ]
     },
     "metadata": {
      "needs_background": "light"
     },
     "output_type": "display_data"
    }
   ],
   "source": [
    "#Create SVM model......\n",
    "from sklearn.svm import SVC\n",
    "#Create model\n",
    "ML_Model = SVC(kernel='linear')\n",
    "\n",
    "#Train model\n",
    "ML_Model.fit(X_train,y_train)\n",
    "print(\"Model train\")\n",
    "\n",
    "#Prepare model\n",
    "y_pred = ML_Model.predict(X_test)\n",
    "print(\"Model prepare\")\n",
    "\n",
    "#Find accuracy\n",
    "acc = ML_Model.score(X_test,y_test)\n",
    "print(\"accuracy is:- \",acc*100)\n",
    "model_eval(y_test,y_pred)"
   ]
  },
  {
   "cell_type": "code",
   "execution_count": 95,
   "id": "c7d12b85",
   "metadata": {},
   "outputs": [
    {
     "name": "stdout",
     "output_type": "stream",
     "text": [
      "Model Saved\n"
     ]
    }
   ],
   "source": [
    "import joblib\n",
    "joblib.dump(ML_Model_3,\"Spam_mail_model.pkl\")\n",
    "joblib.dump(cv,\"cv_model.pkl\")\n",
    "print(\"Model Saved\")"
   ]
  },
  {
   "cell_type": "code",
   "execution_count": null,
   "id": "dc82188c",
   "metadata": {},
   "outputs": [],
   "source": []
  }
 ],
 "metadata": {
  "kernelspec": {
   "display_name": "Python 3 (ipykernel)",
   "language": "python",
   "name": "python3"
  },
  "language_info": {
   "codemirror_mode": {
    "name": "ipython",
    "version": 3
   },
   "file_extension": ".py",
   "mimetype": "text/x-python",
   "name": "python",
   "nbconvert_exporter": "python",
   "pygments_lexer": "ipython3",
   "version": "3.9.12"
  }
 },
 "nbformat": 4,
 "nbformat_minor": 5
}
